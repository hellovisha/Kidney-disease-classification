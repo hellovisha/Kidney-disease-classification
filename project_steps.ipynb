{
 "cells": [
  {
   "cell_type": "markdown",
   "id": "f5369eb7-983d-4f59-b328-44c1734896c5",
   "metadata": {},
   "source": [
    "## Kidney disease classification "
   ]
  },
  {
   "cell_type": "markdown",
   "id": "9aebe0c1-02c4-4db6-b3c1-84f4aeccc9f4",
   "metadata": {},
   "source": [
    "1. Github Repository Setup\n",
    "2. Project Template Creation\n",
    "3. project Setup & Requirements installation\n",
    "4. Logging ,Utils & Exception Module\n",
    "5. Project workflows\n",
    "6. All components Notebook Experiments\n",
    "7. All components Modular code implementation\n",
    "8. training Pipeline\n",
    "9. MLflow (MLops Tool) -- For  Experiments tracking & model Registration\n",
    "10. DVC(MLops Tool)  --  For Pipeline Tracking & implementation\n",
    "11. Prediction pipeline & user App creation\n",
    "12. Docker\n",
    "13. Final CI/CD deployment on AWS"
   ]
  },
  {
   "cell_type": "markdown",
   "id": "bb4190c2-04a1-402b-be1c-489905934d45",
   "metadata": {},
   "source": [
    "## What is kidney tumor ?\n",
    "* A kidney tumor is an abnormal growth or mass that develops in the kidney. Kidney tumors can be benign (non-cancerous) or malignant (cancerous)"
   ]
  },
  {
   "cell_type": "markdown",
   "id": "2674fdee-c867-4243-80e6-9e9515df55db",
   "metadata": {},
   "source": [
    "# 1. Github Repository Setup"
   ]
  },
  {
   "cell_type": "markdown",
   "id": "f5969cf0-a3ab-4d5a-86b2-490663bcd5b6",
   "metadata": {},
   "source": [
    "# 2. Project Template Creation"
   ]
  },
  {
   "cell_type": "markdown",
   "id": "1f0ed0db-b395-427d-8cde-e7066f647560",
   "metadata": {},
   "source": [
    "# 1. step  create `template.py` file in vscode"
   ]
  },
  {
   "cell_type": "markdown",
   "id": "8981e8c9-b295-4ff1-b665-bf0b08611a1e",
   "metadata": {},
   "source": [
    "### template.py"
   ]
  },
  {
   "cell_type": "code",
   "execution_count": null,
   "id": "1fdaef62-dcc3-4a66-abb3-1335ee839979",
   "metadata": {},
   "outputs": [],
   "source": [
    "import os\n",
    "from pathlib import Path\n",
    "import logging\n",
    "\n",
    "#logging string\n",
    "logging.basicConfig(level=logging.INFO, format='[%(asctime)s]: %(message)s:')\n",
    "\n",
    "project_name = 'cnnClassifier'\n",
    "\n",
    "list_of_files = [\n",
    "    \".github/workflows/.gitkeep\",\n",
    "    f\"src/{project_name}/__init__.py\",\n",
    "    f\"src/{project_name}/components/__init__.py\",\n",
    "    f\"src/{project_name}/utils/__init__.py\",\n",
    "    f\"src/{project_name}/config/__init__.py\",\n",
    "    f\"src/{project_name}/config/configuration.py\",\n",
    "    f\"src/{project_name}/pipeline/__init__.py\",\n",
    "    f\"src/{project_name}/entity/__init__.py\",\n",
    "    f\"src/{project_name}/constants/__init__.py\",\n",
    "    \"config/config.yaml\",\n",
    "    \"dvc.yaml\",\n",
    "    \"params.yaml\",\n",
    "    \"requirements.txt\",\n",
    "    \"setup.py\",\n",
    "    \"research/trials.ipynb\",\n",
    "    \"templates/index.html\"\n",
    "\n",
    "\n",
    "]\n",
    "\n",
    "\n",
    "for filepath in list_of_files:\n",
    "    filepath = Path(filepath)\n",
    "    filedir, filename = os.path.split(filepath)\n",
    "\n",
    "\n",
    "    if filedir !=\"\":\n",
    "        os.makedirs(filedir, exist_ok=True)\n",
    "        logging.info(f\"Creating directory; {filedir} for the file: {filename}\")\n",
    "\n",
    "    if (not os.path.exists(filepath)) or (os.path.getsize(filepath) == 0):\n",
    "        with open(filepath, \"w\") as f:\n",
    "            pass\n",
    "            logging.info(f\"Creating empty file: {filepath}\")\n",
    "\n",
    "\n",
    "    else:\n",
    "        logging.info(f\"{filename} is already exists\")"
   ]
  },
  {
   "cell_type": "markdown",
   "id": "1a5f57a0-20a7-49ee-bc19-61b88c586e16",
   "metadata": {},
   "source": [
    "## run command 'python template.py' in cmd"
   ]
  },
  {
   "cell_type": "markdown",
   "id": "7d801b57-c287-49a2-90fa-9bf0b89ca04c",
   "metadata": {},
   "source": [
    "## requirements.txt"
   ]
  },
  {
   "cell_type": "code",
   "execution_count": null,
   "id": "f52e5c05-62bf-4e79-b0ab-050d9e1fb321",
   "metadata": {},
   "outputs": [],
   "source": [
    "tensorflow==2.12.0\n",
    "pandas \n",
    "dvc\n",
    "mlflow==2.2.2\n",
    "notebook\n",
    "numpy\n",
    "matplotlib\n",
    "seaborn\n",
    "python-box==6.0.2\n",
    "pyYAML\n",
    "tqdm\n",
    "ensure==1.0.2\n",
    "joblib\n",
    "types-PyYAML\n",
    "scipy\n",
    "Flask\n",
    "Flask-Cors\n",
    "gdown\n",
    "-e ."
   ]
  },
  {
   "cell_type": "markdown",
   "id": "bd868620-03bf-4b13-875c-f0b3c7f39715",
   "metadata": {},
   "source": [
    "`setup.py`"
   ]
  },
  {
   "cell_type": "code",
   "execution_count": null,
   "id": "d5dbc549-fc2f-4343-8762-7cf6aef79fd5",
   "metadata": {},
   "outputs": [],
   "source": [
    "import setuptools\n",
    "\n",
    "with open(\"README.md\", \"r\", encoding=\"utf-8\") as f:\n",
    "    long_description = f.read()\n",
    "\n",
    "\n",
    "__version__ = \"0.0.0\"\n",
    "\n",
    "REPO_NAME = \"Kidney-disease-classification\"\n",
    "AUTHOR_USER_NAME = \"hellovisha\"\n",
    "SRC_REPO = \"cnnClassifier\"\n",
    "AUTHOR_EMAIL = \"vishalsinghrawat505@gmail.com\"\n",
    "\n",
    "\n",
    "setuptools.setup(\n",
    "    name=SRC_REPO,\n",
    "    version=__version__,\n",
    "    author=AUTHOR_USER_NAME,\n",
    "    author_email=AUTHOR_EMAIL,\n",
    "    description=\"A small python package for CNN app\",\n",
    "    long_description=long_description,\n",
    "    long_description_content=\"text/markdown\",\n",
    "    url=f\"https://github.com/{AUTHOR_USER_NAME}/{REPO_NAME}\",\n",
    "    project_urls={\n",
    "        \"Bug Tracker\": f\"https://github.com/{AUTHOR_USER_NAME}/{REPO_NAME}/issues\",\n",
    "    },\n",
    "    package_dir={\"\": \"src\"},\n",
    "    packages=setuptools.find_packages(where=\"src\")\n",
    ")"
   ]
  },
  {
   "cell_type": "markdown",
   "id": "00dba924-641b-4fc9-9332-bb93c2f2fa94",
   "metadata": {},
   "source": [
    "# create virtualenv\n"
   ]
  },
  {
   "cell_type": "code",
   "execution_count": null,
   "id": "8ac42cf3-8f53-493e-b15e-67056a05000e",
   "metadata": {},
   "outputs": [],
   "source": [
    "conda create -n myenv python=3.8\n",
    "conda activate myenv\n",
    "python --version\n"
   ]
  },
  {
   "cell_type": "markdown",
   "id": "705c634a-e246-4617-a7eb-15f9442fe33c",
   "metadata": {},
   "source": [
    "then install `requirements.txt`"
   ]
  },
  {
   "cell_type": "code",
   "execution_count": null,
   "id": "ed3d0047-5a73-4e0d-a42a-49083c001784",
   "metadata": {},
   "outputs": [],
   "source": [
    "pip install -r requirements.txt"
   ]
  },
  {
   "cell_type": "markdown",
   "id": "aa92c089-36ab-4e9a-a091-468bc7eb56ef",
   "metadata": {},
   "source": [
    "# 4 Logging, Exception & Utils Modules"
   ]
  },
  {
   "cell_type": "markdown",
   "id": "c97c0400-ab86-49f0-ac53-d2cc1de39b91",
   "metadata": {},
   "source": [
    "## Logging"
   ]
  },
  {
   "cell_type": "markdown",
   "id": "d2a74186-a44e-47ee-b6dc-a5944fcc5959",
   "metadata": {},
   "source": [
    "### src/__init__.py"
   ]
  },
  {
   "cell_type": "code",
   "execution_count": null,
   "id": "353f5ec0-d1f1-43ae-8d74-788b4bc1f1ae",
   "metadata": {},
   "outputs": [],
   "source": [
    "import os  # Importing the os module to interact with the operating system\n",
    "import sys  # Importing the sys module to interact with the Python runtime environment\n",
    "import logging  # Importing the logging module to handle logging\n",
    "\n",
    "# Define the logging format string\n",
    "logging_str = \"[%(asctime)s: %(levelname)s: %(module)s: %(message)s]\"\n",
    "\n",
    "# Define the directory where logs will be stored\n",
    "log_dir = \"logs\"\n",
    "\n",
    "# Define the full file path for the log file\n",
    "log_filepath = os.path.join(log_dir, \"running_logs.log\")\n",
    "\n",
    "# Create the log directory if it doesn't exist\n",
    "os.makedirs(log_dir, exist_ok=True)\n",
    "\n",
    "# Configure the logging settings\n",
    "logging.basicConfig(\n",
    "    level=logging.INFO,  # Set the logging level to INFO\n",
    "    format=logging_str,  # Set the logging format\n",
    "\n",
    "    # Define the handlers for logging\n",
    "    handlers=[\n",
    "        logging.FileHandler(log_filepath),  # Log to a file\n",
    "        logging.StreamHandler(sys.stdout)  # Also log to standard output (console)\n",
    "    ]\n",
    ")\n",
    "\n",
    "# Create a logger with the name 'cnnClassifierLogger'\n",
    "logger = logging.getLogger(\"cnnClassifierLogger\")\n"
   ]
  },
  {
   "cell_type": "markdown",
   "id": "f7fb5237-f941-4df9-93ae-fd851a5fa5cf",
   "metadata": {},
   "source": [
    "## create file in project folder main.py"
   ]
  },
  {
   "cell_type": "markdown",
   "id": "9afb9d01-2eb0-4c30-9629-9ddec73430ff",
   "metadata": {},
   "source": [
    "## main.py"
   ]
  },
  {
   "cell_type": "code",
   "execution_count": null,
   "id": "18563beb-1c30-452f-9323-5edf6d937ef4",
   "metadata": {},
   "outputs": [],
   "source": [
    "from src.cnnClassifier import logger\n",
    "\n",
    "\n",
    "\n",
    "logger.info(\"Welcome to the custom log\") \n"
   ]
  },
  {
   "cell_type": "markdown",
   "id": "3a521b54-9fad-4300-a0ad-7b174b16f003",
   "metadata": {},
   "source": [
    "# Exception "
   ]
  },
  {
   "cell_type": "markdown",
   "id": "027eb8eb-9079-424a-a8ad-2a7b32d1e660",
   "metadata": {},
   "source": [
    "### create python file inside utils folder "
   ]
  },
  {
   "cell_type": "markdown",
   "id": "93fa5431-1b29-4040-8c7b-0438a8dd5851",
   "metadata": {},
   "source": [
    "# common.py"
   ]
  },
  {
   "cell_type": "code",
   "execution_count": null,
   "id": "4e16b003-59df-4d06-b928-1e37761f40d0",
   "metadata": {},
   "outputs": [],
   "source": [
    "import os  # Module to interact with the operating system\n",
    "from box.exceptions import BoxValueError  # Exception handling from the Box library\n",
    "import yaml  # Module to work with YAML files\n",
    "from cnnClassifier import logger  # Importing the logger from the cnnClassifier module\n",
    "import json  # Module to work with JSON files\n",
    "import joblib  # Module to save and load Python objects as binary files\n",
    "from ensure import ensure_annotations  # Decorator to enforce type annotations\n",
    "from box import ConfigBox  # Class to convert dictionaries into objects\n",
    "from pathlib import Path  # Module to work with filesystem paths\n",
    "from typing import Any  # For type hinting\n",
    "import base64  # Module to encode and decode data with Base64\n",
    "\n",
    "@ensure_annotations\n",
    "def read_yaml(path_to_yaml: Path) -> ConfigBox:\n",
    "    \"\"\"Reads YAML file and returns its contents as a ConfigBox.\n",
    "\n",
    "    Args:\n",
    "        path_to_yaml (Path): Path to the YAML file.\n",
    "\n",
    "    Raises:\n",
    "        ValueError: If the YAML file is empty.\n",
    "        Exception: For other exceptions.\n",
    "\n",
    "    Returns:\n",
    "        ConfigBox: Content of the YAML file as a ConfigBox object.\n",
    "    \"\"\"\n",
    "    try:\n",
    "        with open(path_to_yaml) as yaml_file:\n",
    "            content = yaml.safe_load(yaml_file)\n",
    "            logger.info(f\"YAML file: {path_to_yaml} loaded successfully\")\n",
    "            return ConfigBox(content)\n",
    "    except BoxValueError:\n",
    "        raise ValueError(\"YAML file is empty\")\n",
    "    except Exception as e:\n",
    "        raise e\n",
    "\n",
    "\n",
    "@ensure_annotations\n",
    "def create_directories(path_to_directories: list, verbose=True):\n",
    "    \"\"\"Create directories specified in the list.\n",
    "\n",
    "    Args:\n",
    "        path_to_directories (list): List of paths to directories to create.\n",
    "        verbose (bool, optional): If True, log the directory creation. Defaults to True.\n",
    "    \"\"\"\n",
    "    for path in path_to_directories:\n",
    "        os.makedirs(path, exist_ok=True)\n",
    "        if verbose:\n",
    "            logger.info(f\"Created directory at: {path}\")\n",
    "\n",
    "\n",
    "\n",
    "@ensure_annotations\n",
    "def save_json(path: Path, data: dict):\n",
    "    \"\"\"Save dictionary data to a JSON file.\n",
    "\n",
    "    Args:\n",
    "        path (Path): Path to the JSON file.\n",
    "        data (dict): Data to be saved in the JSON file.\n",
    "    \"\"\"\n",
    "    with open(path, \"w\") as f:\n",
    "        json.dump(data, f, indent=4)\n",
    "    logger.info(f\"JSON file saved at: {path}\")\n",
    "\n",
    "\n",
    "@ensure_annotations\n",
    "def load_json(path: Path) -> ConfigBox:\n",
    "    \"\"\"Load JSON file data.\n",
    "\n",
    "    Args:\n",
    "        path (Path): Path to the JSON file.\n",
    "\n",
    "    Returns:\n",
    "        ConfigBox: Data as class attributes instead of a dictionary.\n",
    "    \"\"\"\n",
    "    with open(path) as f:\n",
    "        content = json.load(f)\n",
    "    logger.info(f\"JSON file loaded successfully from: {path}\")\n",
    "    return ConfigBox(content)\n",
    "\n",
    "\n",
    "@ensure_annotations\n",
    "def save_bin(data: Any, path: Path):\n",
    "    \"\"\"Save data to a binary file.\n",
    "\n",
    "    Args:\n",
    "        data (Any): Data to be saved as a binary file.\n",
    "        path (Path): Path to the binary file.\n",
    "    \"\"\"\n",
    "    joblib.dump(value=data, filename=path)\n",
    "    logger.info(f\"Binary file saved at: {path}\")\n",
    "\n",
    "@ensure_annotations\n",
    "def load_bin(path: Path) -> Any:\n",
    "    \"\"\"Load data from a binary file.\n",
    "\n",
    "    Args:\n",
    "        path (Path): Path to the binary file.\n",
    "\n",
    "    Returns:\n",
    "        Any: Object stored in the file.\n",
    "    \"\"\"\n",
    "    data = joblib.load(path)\n",
    "    logger.info(f\"Binary file loaded from: {path}\")\n",
    "    return data\n",
    "\n",
    "@ensure_annotations\n",
    "def get_size(path: Path) -> str:\n",
    "    \"\"\"Get the size of the file in KB.\n",
    "\n",
    "    Args:\n",
    "        path (Path): Path of the file.\n",
    "\n",
    "    Returns:\n",
    "        str: Size of the file in KB.\n",
    "    \"\"\"\n",
    "    size_in_kb = round(os.path.getsize(path) / 1024)\n",
    "    return f\"~ {size_in_kb} KB\""
   ]
  }
 ],
 "metadata": {
  "kernelspec": {
   "display_name": "Python 3 (ipykernel)",
   "language": "python",
   "name": "python3"
  },
  "language_info": {
   "codemirror_mode": {
    "name": "ipython",
    "version": 3
   },
   "file_extension": ".py",
   "mimetype": "text/x-python",
   "name": "python",
   "nbconvert_exporter": "python",
   "pygments_lexer": "ipython3",
   "version": "3.12.2"
  }
 },
 "nbformat": 4,
 "nbformat_minor": 5
}
