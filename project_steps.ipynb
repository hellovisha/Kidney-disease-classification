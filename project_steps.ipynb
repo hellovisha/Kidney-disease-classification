{
 "cells": [
  {
   "cell_type": "markdown",
   "id": "f5369eb7-983d-4f59-b328-44c1734896c5",
   "metadata": {},
   "source": [
    "## Kidney disease classification "
   ]
  },
  {
   "cell_type": "markdown",
   "id": "9aebe0c1-02c4-4db6-b3c1-84f4aeccc9f4",
   "metadata": {},
   "source": [
    "1. Github Repository Setup\n",
    "2. Project Template Creation\n",
    "3. project Setup & Requirements installation\n",
    "4. Logging ,Utils & Exception Module\n",
    "5. Project workflows\n",
    "6. All components Notebook Experiments\n",
    "7. All components Modular code implementation\n",
    "8. training Pipeline\n",
    "9. MLflow (MLops Tool) -- For  Experiments tracking & model Registration\n",
    "10. DVC(MLops Tool)  --  For Pipeline Tracking & implementation\n",
    "11. Prediction pipeline & user App creation\n",
    "12. Docker\n",
    "13. Final CI/CD deployment on AWS"
   ]
  }
 ],
 "metadata": {
  "kernelspec": {
   "display_name": "Python 3 (ipykernel)",
   "language": "python",
   "name": "python3"
  },
  "language_info": {
   "codemirror_mode": {
    "name": "ipython",
    "version": 3
   },
   "file_extension": ".py",
   "mimetype": "text/x-python",
   "name": "python",
   "nbconvert_exporter": "python",
   "pygments_lexer": "ipython3",
   "version": "3.12.2"
  }
 },
 "nbformat": 4,
 "nbformat_minor": 5
}
