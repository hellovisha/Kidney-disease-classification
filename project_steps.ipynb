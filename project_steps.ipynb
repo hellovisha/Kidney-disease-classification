{
 "cells": [
  {
   "cell_type": "markdown",
   "id": "f5369eb7-983d-4f59-b328-44c1734896c5",
   "metadata": {},
   "source": [
    "## Kidney disease classification "
   ]
  },
  {
   "cell_type": "markdown",
   "id": "9aebe0c1-02c4-4db6-b3c1-84f4aeccc9f4",
   "metadata": {},
   "source": [
    "1. Github Repository Setup\n",
    "2. Project Template Creation\n",
    "3. project Setup & Requirements installation\n",
    "4. Logging ,Utils & Exception Module\n",
    "5. Project workflows\n",
    "6. All components Notebook Experiments\n",
    "7. All components Modular code implementation\n",
    "8. training Pipeline\n",
    "9. MLflow (MLops Tool) -- For  Experiments tracking & model Registration\n",
    "10. DVC(MLops Tool)  --  For Pipeline Tracking & implementation\n",
    "11. Prediction pipeline & user App creation\n",
    "12. Docker\n",
    "13. Final CI/CD deployment on AWS"
   ]
  },
  {
   "cell_type": "markdown",
   "id": "bb4190c2-04a1-402b-be1c-489905934d45",
   "metadata": {},
   "source": [
    "## What is kidney tumor ?\n",
    "* A kidney tumor is an abnormal growth or mass that develops in the kidney. Kidney tumors can be benign (non-cancerous) or malignant (cancerous)"
   ]
  },
  {
   "cell_type": "markdown",
   "id": "2674fdee-c867-4243-80e6-9e9515df55db",
   "metadata": {},
   "source": [
    "# 1. Github Repository Setup"
   ]
  },
  {
   "cell_type": "markdown",
   "id": "f5969cf0-a3ab-4d5a-86b2-490663bcd5b6",
   "metadata": {},
   "source": [
    "# 2. Project Template Creation"
   ]
  },
  {
   "cell_type": "markdown",
   "id": "1f0ed0db-b395-427d-8cde-e7066f647560",
   "metadata": {},
   "source": [
    "# 1. step  create `template.py` file in vscode"
   ]
  },
  {
   "cell_type": "markdown",
   "id": "8981e8c9-b295-4ff1-b665-bf0b08611a1e",
   "metadata": {},
   "source": [
    "### template.py"
   ]
  },
  {
   "cell_type": "code",
   "execution_count": null,
   "id": "1fdaef62-dcc3-4a66-abb3-1335ee839979",
   "metadata": {},
   "outputs": [],
   "source": [
    "import os\n",
    "from pathlib import Path\n",
    "import logging\n",
    "\n",
    "#logging string\n",
    "logging.basicConfig(level=logging.INFO, format='[%(asctime)s]: %(message)s:')\n",
    "\n",
    "project_name = 'cnnClassifier'\n",
    "\n",
    "list_of_files = [\n",
    "    \".github/workflows/.gitkeep\",\n",
    "    f\"src/{project_name}/__init__.py\",\n",
    "    f\"src/{project_name}/components/__init__.py\",\n",
    "    f\"src/{project_name}/utils/__init__.py\",\n",
    "    f\"src/{project_name}/config/__init__.py\",\n",
    "    f\"src/{project_name}/config/configuration.py\",\n",
    "    f\"src/{project_name}/pipeline/__init__.py\",\n",
    "    f\"src/{project_name}/entity/__init__.py\",\n",
    "    f\"src/{project_name}/constants/__init__.py\",\n",
    "    \"config/config.yaml\",\n",
    "    \"dvc.yaml\",\n",
    "    \"params.yaml\",\n",
    "    \"requirements.txt\",\n",
    "    \"setup.py\",\n",
    "    \"research/trials.ipynb\",\n",
    "    \"templates/index.html\"\n",
    "\n",
    "\n",
    "]\n",
    "\n",
    "\n",
    "for filepath in list_of_files:\n",
    "    filepath = Path(filepath)\n",
    "    filedir, filename = os.path.split(filepath)\n",
    "\n",
    "\n",
    "    if filedir !=\"\":\n",
    "        os.makedirs(filedir, exist_ok=True)\n",
    "        logging.info(f\"Creating directory; {filedir} for the file: {filename}\")\n",
    "\n",
    "    if (not os.path.exists(filepath)) or (os.path.getsize(filepath) == 0):\n",
    "        with open(filepath, \"w\") as f:\n",
    "            pass\n",
    "            logging.info(f\"Creating empty file: {filepath}\")\n",
    "\n",
    "\n",
    "    else:\n",
    "        logging.info(f\"{filename} is already exists\")"
   ]
  },
  {
   "cell_type": "markdown",
   "id": "1a5f57a0-20a7-49ee-bc19-61b88c586e16",
   "metadata": {},
   "source": [
    "## run command 'python template.py' in cmd"
   ]
  },
  {
   "cell_type": "markdown",
   "id": "7d801b57-c287-49a2-90fa-9bf0b89ca04c",
   "metadata": {},
   "source": [
    "## requirements.txt"
   ]
  },
  {
   "cell_type": "code",
   "execution_count": null,
   "id": "f52e5c05-62bf-4e79-b0ab-050d9e1fb321",
   "metadata": {},
   "outputs": [],
   "source": [
    "tensorflow==2.12.0\n",
    "pandas \n",
    "dvc\n",
    "mlflow==2.2.2\n",
    "notebook\n",
    "numpy\n",
    "matplotlib\n",
    "seaborn\n",
    "python-box==6.0.2\n",
    "pyYAML\n",
    "tqdm\n",
    "ensure==1.0.2\n",
    "joblib\n",
    "types-PyYAML\n",
    "scipy\n",
    "Flask\n",
    "Flask-Cors\n",
    "gdown\n",
    "-e ."
   ]
  },
  {
   "cell_type": "markdown",
   "id": "bd868620-03bf-4b13-875c-f0b3c7f39715",
   "metadata": {},
   "source": [
    "`setup.py`"
   ]
  },
  {
   "cell_type": "code",
   "execution_count": null,
   "id": "d5dbc549-fc2f-4343-8762-7cf6aef79fd5",
   "metadata": {},
   "outputs": [],
   "source": [
    "import setuptools\n",
    "\n",
    "with open(\"README.md\", \"r\", encoding=\"utf-8\") as f:\n",
    "    long_description = f.read()\n",
    "\n",
    "\n",
    "__version__ = \"0.0.0\"\n",
    "\n",
    "REPO_NAME = \"Kidney-disease-classification\"\n",
    "AUTHOR_USER_NAME = \"hellovisha\"\n",
    "SRC_REPO = \"cnnClassifier\"\n",
    "AUTHOR_EMAIL = \"vishalsinghrawat505@gmail.com\"\n",
    "\n",
    "\n",
    "setuptools.setup(\n",
    "    name=SRC_REPO,\n",
    "    version=__version__,\n",
    "    author=AUTHOR_USER_NAME,\n",
    "    author_email=AUTHOR_EMAIL,\n",
    "    description=\"A small python package for CNN app\",\n",
    "    long_description=long_description,\n",
    "    long_description_content=\"text/markdown\",\n",
    "    url=f\"https://github.com/{AUTHOR_USER_NAME}/{REPO_NAME}\",\n",
    "    project_urls={\n",
    "        \"Bug Tracker\": f\"https://github.com/{AUTHOR_USER_NAME}/{REPO_NAME}/issues\",\n",
    "    },\n",
    "    package_dir={\"\": \"src\"},\n",
    "    packages=setuptools.find_packages(where=\"src\")\n",
    ")"
   ]
  },
  {
   "cell_type": "markdown",
   "id": "00dba924-641b-4fc9-9332-bb93c2f2fa94",
   "metadata": {},
   "source": [
    "# create virtualenv\n"
   ]
  },
  {
   "cell_type": "code",
   "execution_count": null,
   "id": "8ac42cf3-8f53-493e-b15e-67056a05000e",
   "metadata": {},
   "outputs": [],
   "source": [
    "conda create -n myenv python=3.8\n",
    "conda activate myenv\n",
    "python --version\n"
   ]
  },
  {
   "cell_type": "markdown",
   "id": "705c634a-e246-4617-a7eb-15f9442fe33c",
   "metadata": {},
   "source": [
    "then install `requirements.txt`"
   ]
  },
  {
   "cell_type": "code",
   "execution_count": null,
   "id": "ed3d0047-5a73-4e0d-a42a-49083c001784",
   "metadata": {},
   "outputs": [],
   "source": [
    "pip install -r requirements.txt"
   ]
  }
 ],
 "metadata": {
  "kernelspec": {
   "display_name": "Python 3 (ipykernel)",
   "language": "python",
   "name": "python3"
  },
  "language_info": {
   "codemirror_mode": {
    "name": "ipython",
    "version": 3
   },
   "file_extension": ".py",
   "mimetype": "text/x-python",
   "name": "python",
   "nbconvert_exporter": "python",
   "pygments_lexer": "ipython3",
   "version": "3.12.2"
  }
 },
 "nbformat": 4,
 "nbformat_minor": 5
}
